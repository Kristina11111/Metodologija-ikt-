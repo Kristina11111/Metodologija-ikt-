{
 "cells": [
  {
   "cell_type": "markdown",
   "metadata": {},
   "source": [
    "Теорија:\n",
    "За да филтрираме слика во фреквенциски домен потребно е да ја помножиме сликата во фреквенциски домен со филтерот (кернел) кој е исто така во фреквенциски домен."
   ]
  },
  {
   "cell_type": "markdown",
   "metadata": {},
   "source": [
    "\\begin{equation} I_{f,filt} = HI_f \\end{equation}"
   ]
  },
  {
   "cell_type": "markdown",
   "metadata": {},
   "source": [
    "За таа цел потребно е да се вметне Octave функција која ќе креира “Band pass gaussian filter” во фреквенциски домен. Bandpass гаусовиот филтер во фреквенциски домен е дефиниран со равенката:\n",
    "\n",
    "\\begin{equation} H(i,j) = e^{\\frac{d(i,j)^2}{f_h^2}} (1 - e^{\\frac{d(i,j)^2}{f_l^2}}) \\end{equation}\n"
   ]
  },
  {
   "cell_type": "markdown",
   "metadata": {},
   "source": [
    "Каде што 𝑑(𝑖,𝑗) е евклидовото растојанието на даден пиксел од центарот на сликата, додека 𝑓ℎи 𝑓𝑙 се праговите на високите и ниските фреквенции кои сакаме да ги филтрираме.\n",
    "Конверзија на 2D сликата од просторен во фреквенциски домен се прави со користење на Фуриева трансформација. Фуриевата трансформација е дефинирана како:\n",
    "\\begin{equation} F(u,v) = \\iint \\limits_{-\\infty}^{\\infty} f(x,y)e^{-i2\\pi(ux+vy)}dxdy   \\end{equation}    \n",
    " \n",
    "    "
   ]
  },
  {
   "cell_type": "markdown",
   "metadata": {},
   "source": [
    "А во дискретниот домен горната равенка може да биде преведена како\n",
    "\\begin{equation} F(u,v) = \\mathop{\\sum_{m=-\\infty}^{\\infty}\\sum_{n=-\\infty}^{\\infty}} f[m,n]\\cdot e^{-i2\\pi(ux+vy)}                          \\end{equation}"
   ]
  },
  {
   "cell_type": "markdown",
   "metadata": {},
   "source": [
    "Конверзија на 2D сликата од фреквенциски во просторен домен се прави со користење на инверзна Фуриева трансформација. Инверзната Фуриева трансформација е дефинирана како:\n",
    "\\begin{equation} F(x,y) = \\iint \\limits_{-\\infty}^{\\infty} f(u,v) e^{-i2\\pi(ux+vy)}dudv   \\end{equation}"
   ]
  },
  {
   "cell_type": "markdown",
   "metadata": {},
   "source": [
    "А во дискретниот домен горната равенка може да биде преведена како\n",
    "\\begin{equation} F(x,y) = \\mathop{\\sum_{m=-\\infty}^{\\infty}\\sum_{n=-\\infty}^{\\infty}} f[m,n] \\cdot e^{-i2\\pi(xmu_0+ynv_0)}                        \\end{equation}"
   ]
  },
  {
   "cell_type": "code",
   "execution_count": null,
   "metadata": {},
   "outputs": [],
   "source": [
    "\n"
   ]
  },
  {
   "cell_type": "markdown",
   "metadata": {},
   "source": []
  }
 ],
 "metadata": {
  "kernelspec": {
   "display_name": "Python 3",
   "language": "python",
   "name": "python3"
  },
  "language_info": {
   "codemirror_mode": {
    "name": "ipython",
    "version": 3
   },
   "file_extension": ".py",
   "mimetype": "text/x-python",
   "name": "python",
   "nbconvert_exporter": "python",
   "pygments_lexer": "ipython3",
   "version": "3.7.4"
  }
 },
 "nbformat": 4,
 "nbformat_minor": 2
}
